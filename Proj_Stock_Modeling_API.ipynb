{
 "nbformat": 4,
 "nbformat_minor": 2,
 "metadata": {
  "language_info": {
   "name": "python",
   "codemirror_mode": {
    "name": "ipython",
    "version": 3
   },
   "version": "3.7.3-final"
  },
  "orig_nbformat": 2,
  "file_extension": ".py",
  "mimetype": "text/x-python",
  "name": "python",
  "npconvert_exporter": "python",
  "pygments_lexer": "ipython3",
  "version": 3,
  "kernelspec": {
   "name": "python37364bit724418e7c5134b1f932739c0ac4558df",
   "display_name": "Python 3.7.3 64-bit"
  }
 },
 "cells": [
  {
   "cell_type": "markdown",
   "metadata": {},
   "source": [
    "Classification - Testing different models on one data set"
   ]
  },
  {
   "cell_type": "code",
   "execution_count": 1,
   "metadata": {},
   "outputs": [],
   "source": [
    "# Import Libraries and Modules\n",
    "import pandas as pd\n",
    "import numpy as np\n",
    "import time\n",
    "from pandas_datareader import data, wb\n",
    "from datetime import datetime\n",
    "import matplotlib.pyplot as plt"
   ]
  },
  {
   "cell_type": "markdown",
   "metadata": {},
   "source": [
    "Prepare Data"
   ]
  },
  {
   "cell_type": "code",
   "execution_count": 2,
   "metadata": {},
   "outputs": [],
   "source": [
    "# Setting the Date\n",
    "start = pd.to_datetime('2020-01-01')\n",
    "end = pd.to_datetime('today')"
   ]
  },
  {
   "cell_type": "code",
   "execution_count": null,
   "metadata": {},
   "outputs": [],
   "source": [
    "# Pandas DataReader API (Quandl, Google, Yahoo, AlphaVantage, sooq ...)\n",
    "Tickers = ['AAPL', 'TSLA', 'MSFT', 'QQQ', 'AMZN', 'SPY']\n",
    "Stock_df = data.DataReader(Tickers, 'yahoo', start, end)\n",
    "Stock_df.head()"
   ]
  },
  {
   "cell_type": "code",
   "execution_count": null,
   "metadata": {},
   "outputs": [],
   "source": [
    "# Plot the adjusted close price\n",
    "Stock_df['Adj Close'].plot( figsize = ( 10, 7))\n",
    "# Define the label for the title of the figure\n",
    "plt.title( \"Adjusted Close Price of %s\" % Tickers, fontsize = 18)\n",
    "# Define the labels for x-axis and y-axis\n",
    "plt.ylabel( 'Price', fontsize = 20)\n",
    "plt.xlabel( 'Year', fontsize = 20)\n",
    "# Plot the grid lines\n",
    "plt.grid( which=\"major\", color = 'k', linestyle = '-.', linewidth = 0.5)\n",
    "# Show the plot\n",
    "plt.show()"
   ]
  },
  {
   "cell_type": "code",
   "execution_count": null,
   "metadata": {},
   "outputs": [],
   "source": []
  }
 ]
}