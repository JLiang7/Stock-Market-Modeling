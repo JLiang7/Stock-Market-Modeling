{
 "nbformat": 4,
 "nbformat_minor": 2,
 "metadata": {
  "language_info": {
   "name": "python",
   "codemirror_mode": {
    "name": "ipython",
    "version": 3
   },
   "version": "3.7.4-final"
  },
  "orig_nbformat": 2,
  "file_extension": ".py",
  "mimetype": "text/x-python",
  "name": "python",
  "npconvert_exporter": "python",
  "pygments_lexer": "ipython3",
  "version": 3,
  "kernelspec": {
   "name": "python37364bit724418e7c5134b1f932739c0ac4558df",
   "display_name": "Python 3.7.3 64-bit"
  }
 },
 "cells": [
  {
   "cell_type": "markdown",
   "metadata": {},
   "source": [
    "Classification - Testing different models on one data set"
   ]
  },
  {
   "cell_type": "code",
   "execution_count": 90,
   "metadata": {},
   "outputs": [],
   "source": [
    "# Import Libraries and Modules\n",
    "import pandas as pd\n",
    "import numpy as np\n",
    "import time\n",
    "from pandas_datareader import data, wb\n",
    "from datetime import datetime\n",
    "import matplotlib.pyplot as plt"
   ]
  },
  {
   "cell_type": "markdown",
   "metadata": {},
   "source": [
    "Prepare Data"
   ]
  },
  {
   "cell_type": "code",
   "execution_count": 91,
   "metadata": {
    "tags": []
   },
   "outputs": [],
   "source": [
    "# Setting the Date\n",
    "start = pd.to_datetime('2018-01-01')\n",
    "end = pd.to_datetime('today')"
   ]
  },
  {
   "cell_type": "code",
   "execution_count": 92,
   "metadata": {},
   "outputs": [
    {
     "output_type": "execute_result",
     "data": {
      "text/plain": [
       "Attributes       Date   Adj Close       Close        High         Low  \\\n",
       "Symbols                       QQQ         QQQ         QQQ         QQQ   \n",
       "0          2018-01-02  155.276016  158.490005  158.529999  156.169998   \n",
       "1          2018-01-03  156.784760  160.029999  160.169998  158.610001   \n",
       "2          2018-01-04  157.059082  160.309998  160.789993  160.080002   \n",
       "3          2018-01-05  158.636444  161.919998  162.029999  160.770004   \n",
       "4          2018-01-08  159.253693  162.550003  162.630005  161.860001   \n",
       "\n",
       "Attributes        Open      Volume  \n",
       "Symbols            QQQ         QQQ  \n",
       "0           156.559998  32573300.0  \n",
       "1           158.639999  29383600.0  \n",
       "2           160.580002  24776100.0  \n",
       "3           161.070007  26992300.0  \n",
       "4           161.919998  23159100.0  "
      ],
      "text/html": "<div>\n<style scoped>\n    .dataframe tbody tr th:only-of-type {\n        vertical-align: middle;\n    }\n\n    .dataframe tbody tr th {\n        vertical-align: top;\n    }\n\n    .dataframe thead tr th {\n        text-align: left;\n    }\n</style>\n<table border=\"1\" class=\"dataframe\">\n  <thead>\n    <tr>\n      <th>Attributes</th>\n      <th>Date</th>\n      <th>Adj Close</th>\n      <th>Close</th>\n      <th>High</th>\n      <th>Low</th>\n      <th>Open</th>\n      <th>Volume</th>\n    </tr>\n    <tr>\n      <th>Symbols</th>\n      <th></th>\n      <th>QQQ</th>\n      <th>QQQ</th>\n      <th>QQQ</th>\n      <th>QQQ</th>\n      <th>QQQ</th>\n      <th>QQQ</th>\n    </tr>\n  </thead>\n  <tbody>\n    <tr>\n      <th>0</th>\n      <td>2018-01-02</td>\n      <td>155.276016</td>\n      <td>158.490005</td>\n      <td>158.529999</td>\n      <td>156.169998</td>\n      <td>156.559998</td>\n      <td>32573300.0</td>\n    </tr>\n    <tr>\n      <th>1</th>\n      <td>2018-01-03</td>\n      <td>156.784760</td>\n      <td>160.029999</td>\n      <td>160.169998</td>\n      <td>158.610001</td>\n      <td>158.639999</td>\n      <td>29383600.0</td>\n    </tr>\n    <tr>\n      <th>2</th>\n      <td>2018-01-04</td>\n      <td>157.059082</td>\n      <td>160.309998</td>\n      <td>160.789993</td>\n      <td>160.080002</td>\n      <td>160.580002</td>\n      <td>24776100.0</td>\n    </tr>\n    <tr>\n      <th>3</th>\n      <td>2018-01-05</td>\n      <td>158.636444</td>\n      <td>161.919998</td>\n      <td>162.029999</td>\n      <td>160.770004</td>\n      <td>161.070007</td>\n      <td>26992300.0</td>\n    </tr>\n    <tr>\n      <th>4</th>\n      <td>2018-01-08</td>\n      <td>159.253693</td>\n      <td>162.550003</td>\n      <td>162.630005</td>\n      <td>161.860001</td>\n      <td>161.919998</td>\n      <td>23159100.0</td>\n    </tr>\n  </tbody>\n</table>\n</div>"
     },
     "metadata": {},
     "execution_count": 92
    }
   ],
   "source": [
    "# Pandas DataReader API (Quandl, Google, Yahoo, AlphaVantage, sooq ...)\n",
    "Tickers = ['QQQ'] #'AAPL', 'TSLA', 'MSFT', 'AMZN', 'SPY'\n",
    "Stock_df = data.DataReader(Tickers, 'yahoo', start, end)\n",
    "Stock_df.reset_index( drop=False, inplace=True)\n",
    "Stock_df['Date'] = pd.to_datetime(Stock_df['Date'])\n",
    "Stock_df.reset_index( drop=True, inplace=True)\n",
    "Stock_df.sort_values( by=['Date'], ascending=True, inplace=True)\n",
    "#Stock_df.columns = Stock_df.columns.droplevel(-1)\n",
    "Stock_df.head()"
   ]
  },
  {
   "source": [
    "# Plot the adjusted close price\n",
    "Stock_df['Adj Close'].plot( figsize = ( 10, 7))\n",
    "# Define the label for the title of the figure\n",
    "plt.title( \"Adjusted Close Price of %s\" % Tickers, fontsize = 18)\n",
    "# Define the labels for x-axis and y-axis\n",
    "plt.ylabel( 'Price', fontsize = 20)\n",
    "plt.xlabel( 'Year', fontsize = 20)\n",
    "# Plot the grid lines\n",
    "plt.grid( which=\"major\", color = 'k', linestyle = '-.', linewidth = 0.5)\n",
    "# Show the plot\n",
    "plt.show()"
   ],
   "cell_type": "markdown",
   "metadata": {}
  },
  {
   "cell_type": "code",
   "execution_count": 94,
   "metadata": {},
   "outputs": [
    {
     "output_type": "execute_result",
     "data": {
      "text/plain": [
       "Attributes       Date   Adj Close       Close        High         Low  \\\n",
       "Symbols                       QQQ         QQQ         QQQ         QQQ   \n",
       "365        2019-06-14  180.776596  182.639999  183.110001  181.940002   \n",
       "366        2019-06-17  181.865387  183.740005  184.250000  182.839996   \n",
       "367        2019-06-18  184.508118  186.410004  187.720001  185.429993   \n",
       "368        2019-06-19  185.200989  187.110001  187.529999  185.570007   \n",
       "369        2019-06-20  186.923233  188.850006  189.759995  187.160004   \n",
       "\n",
       "Attributes        Open      Volume       Avg_5      Avg_30     Avg_365  \\\n",
       "Symbols            QQQ         QQQ                                       \n",
       "365         182.479996  22844100.0  181.123016  179.196209  169.478958   \n",
       "366         183.039993  20379500.0  181.239819  178.953050  169.551805   \n",
       "367         185.910004  48177300.0  181.835672  178.836583  169.627760   \n",
       "368         186.660004  31672900.0  182.779944  178.865287  169.704861   \n",
       "369         189.720001  40922000.0  183.854865  178.966906  169.782359   \n",
       "\n",
       "Attributes     Std_5    Std_30   Std_365 Avg_5/365 Std_5/365  \n",
       "Symbols                                                       \n",
       "365         0.475626  9.441139  9.441139  1.068705  0.050378  \n",
       "366         0.583675  9.433827  9.433827  1.068935  0.061870  \n",
       "367         1.595755  9.442354  9.442354  1.071969  0.169000  \n",
       "368         1.950256  9.454331  9.454331  1.077046  0.206282  \n",
       "369         2.504368  9.479255  9.479255  1.082886  0.264195  "
      ],
      "text/html": "<div>\n<style scoped>\n    .dataframe tbody tr th:only-of-type {\n        vertical-align: middle;\n    }\n\n    .dataframe tbody tr th {\n        vertical-align: top;\n    }\n\n    .dataframe thead tr th {\n        text-align: left;\n    }\n</style>\n<table border=\"1\" class=\"dataframe\">\n  <thead>\n    <tr>\n      <th>Attributes</th>\n      <th>Date</th>\n      <th>Adj Close</th>\n      <th>Close</th>\n      <th>High</th>\n      <th>Low</th>\n      <th>Open</th>\n      <th>Volume</th>\n      <th>Avg_5</th>\n      <th>Avg_30</th>\n      <th>Avg_365</th>\n      <th>Std_5</th>\n      <th>Std_30</th>\n      <th>Std_365</th>\n      <th>Avg_5/365</th>\n      <th>Std_5/365</th>\n    </tr>\n    <tr>\n      <th>Symbols</th>\n      <th></th>\n      <th>QQQ</th>\n      <th>QQQ</th>\n      <th>QQQ</th>\n      <th>QQQ</th>\n      <th>QQQ</th>\n      <th>QQQ</th>\n      <th></th>\n      <th></th>\n      <th></th>\n      <th></th>\n      <th></th>\n      <th></th>\n      <th></th>\n      <th></th>\n    </tr>\n  </thead>\n  <tbody>\n    <tr>\n      <th>365</th>\n      <td>2019-06-14</td>\n      <td>180.776596</td>\n      <td>182.639999</td>\n      <td>183.110001</td>\n      <td>181.940002</td>\n      <td>182.479996</td>\n      <td>22844100.0</td>\n      <td>181.123016</td>\n      <td>179.196209</td>\n      <td>169.478958</td>\n      <td>0.475626</td>\n      <td>9.441139</td>\n      <td>9.441139</td>\n      <td>1.068705</td>\n      <td>0.050378</td>\n    </tr>\n    <tr>\n      <th>366</th>\n      <td>2019-06-17</td>\n      <td>181.865387</td>\n      <td>183.740005</td>\n      <td>184.250000</td>\n      <td>182.839996</td>\n      <td>183.039993</td>\n      <td>20379500.0</td>\n      <td>181.239819</td>\n      <td>178.953050</td>\n      <td>169.551805</td>\n      <td>0.583675</td>\n      <td>9.433827</td>\n      <td>9.433827</td>\n      <td>1.068935</td>\n      <td>0.061870</td>\n    </tr>\n    <tr>\n      <th>367</th>\n      <td>2019-06-18</td>\n      <td>184.508118</td>\n      <td>186.410004</td>\n      <td>187.720001</td>\n      <td>185.429993</td>\n      <td>185.910004</td>\n      <td>48177300.0</td>\n      <td>181.835672</td>\n      <td>178.836583</td>\n      <td>169.627760</td>\n      <td>1.595755</td>\n      <td>9.442354</td>\n      <td>9.442354</td>\n      <td>1.071969</td>\n      <td>0.169000</td>\n    </tr>\n    <tr>\n      <th>368</th>\n      <td>2019-06-19</td>\n      <td>185.200989</td>\n      <td>187.110001</td>\n      <td>187.529999</td>\n      <td>185.570007</td>\n      <td>186.660004</td>\n      <td>31672900.0</td>\n      <td>182.779944</td>\n      <td>178.865287</td>\n      <td>169.704861</td>\n      <td>1.950256</td>\n      <td>9.454331</td>\n      <td>9.454331</td>\n      <td>1.077046</td>\n      <td>0.206282</td>\n    </tr>\n    <tr>\n      <th>369</th>\n      <td>2019-06-20</td>\n      <td>186.923233</td>\n      <td>188.850006</td>\n      <td>189.759995</td>\n      <td>187.160004</td>\n      <td>189.720001</td>\n      <td>40922000.0</td>\n      <td>183.854865</td>\n      <td>178.966906</td>\n      <td>169.782359</td>\n      <td>2.504368</td>\n      <td>9.479255</td>\n      <td>9.479255</td>\n      <td>1.082886</td>\n      <td>0.264195</td>\n    </tr>\n  </tbody>\n</table>\n</div>"
     },
     "metadata": {},
     "execution_count": 94
    }
   ],
   "source": [
    "# Data Aggregations on adjusted closing price\n",
    "Stock_df['Avg_5'] = Stock_df['Adj Close'].rolling( window = 5, center = False).mean()\n",
    "Stock_df['Avg_30'] = Stock_df['Adj Close'].rolling( window = 30, center = False).mean()\n",
    "Stock_df['Avg_365'] = Stock_df['Adj Close'].rolling( window = 365, center = False).mean()\n",
    "Stock_df['Std_5'] = Stock_df['Adj Close'].rolling( window = 5, center = False).std()\n",
    "Stock_df['Std_30'] = Stock_df['Adj Close'].rolling( window = 365, center = False).std()\n",
    "Stock_df['Std_365'] = Stock_df['Adj Close'].rolling( window = 365, center = False).std()\n",
    "Stock_df['Avg_5/365'] = Stock_df['Avg_5']/Stock_df['Avg_365']\n",
    "Stock_df['Std_5/365'] = Stock_df['Std_5']/Stock_df['Std_365']\n",
    "\n",
    "Stock_df = Stock_df.shift( periods = 1)\n",
    "Stock_df.dropna( how= 'any', axis = 0, inplace = True)\n",
    "\n",
    "Stock_df.head()"
   ]
  },
  {
   "cell_type": "code",
   "execution_count": 95,
   "metadata": {},
   "outputs": [],
   "source": [
    "# Splitting Data to Training and Test sets\n",
    "df_train = Stock_df[Stock_df['Date'] < datetime(year = 2019, month = 9, day = 1)]\n",
    "df_test = Stock_df[Stock_df['Date'] >= datetime(year = 2019, month = 9, day = 1)]\n",
    "features = ['Avg_5', 'Avg_30', 'Avg_365', 'Std_5', 'Std_30', 'Std_365', 'Avg_5/365', 'Std_5/365']\n",
    "target = ['Adj Close']\n",
    "X = df_train[features]\n",
    "X_test = df_test[features]\n",
    "y = df_train[target]\n",
    "y_test = df_test[target]"
   ]
  },
  {
   "source": [
    "Linear Regression Model"
   ],
   "cell_type": "markdown",
   "metadata": {}
  },
  {
   "cell_type": "code",
   "execution_count": 98,
   "metadata": {},
   "outputs": [
    {
     "output_type": "stream",
     "name": "stdout",
     "text": [
      "Coef:  [[-4.02e+01  2.37e-01  4.23e+01 -4.06e+01  4.75e+00  4.75e+00  6.99e+03\n   4.04e+02]]\nIntercept:  [-7305.92]\n"
     ]
    }
   ],
   "source": [
    "# Fitting Linear Regression to the dataset and predicting a new result\n",
    "from sklearn.linear_model import LinearRegression\n",
    "linear = LinearRegression()\n",
    "linear.fit(X, y)\n",
    "print(\"Coef: \", linear.coef_)\n",
    "print(\"Intercept: \", linear.intercept_)\n",
    "y_pred_linear = linear.predict(X_test)"
   ]
  },
  {
   "cell_type": "code",
   "execution_count": 159,
   "metadata": {},
   "outputs": [
    {
     "output_type": "stream",
     "name": "stdout",
     "text": [
      "MAE:  130.24688800671373\nMSE:  37655.292214544956\nRMSE:  194.0497158321675\nScore:  0.8150607882340065\n"
     ]
    }
   ],
   "source": [
    "from sklearn.metrics import mean_absolute_error, mean_squared_error, r2_score\n",
    "mae_l = mean_absolute_error( y_test, y_pred_linear)\n",
    "mse_l = mean_squared_error( y_test, y_pred_linear)\n",
    "\n",
    "print(\"MAE: \", mae_l)\n",
    "print(\"MSE: \", mse_l)\n",
    "print(\"RMSE: \", np.sqrt(mse_l))\n",
    "print(\"Score: \", linear.score(X, y))\n",
    "#r2_score(y , y_pred_linear)"
   ]
  },
  {
   "source": [
    "Random Forest Regression Model"
   ],
   "cell_type": "markdown",
   "metadata": {}
  },
  {
   "cell_type": "code",
   "execution_count": 124,
   "metadata": {},
   "outputs": [],
   "source": [
    "from sklearn.ensemble import RandomForestRegressor\n",
    "regressor = RandomForestRegressor(n_estimators = 10, random_state = 0)\n",
    "regressor.fit(X, y)\n",
    "#print(\"Coef: \", regressor.coef_)\n",
    "#print(\"Intercept: \", regressor.intercept_)\n",
    "y_pred_rf = regressor.predict(X_test)"
   ]
  },
  {
   "cell_type": "code",
   "execution_count": 125,
   "metadata": {},
   "outputs": [
    {
     "output_type": "stream",
     "name": "stdout",
     "text": [
      "MAE:  36.27401752609144\nMSE:  2224.1655271345676\nRMSE:  47.161059436091634\nScore:  0.9355433916018384\n"
     ]
    }
   ],
   "source": [
    "from sklearn.metrics import mean_absolute_error, mean_squared_error\n",
    "mae_rf = mean_absolute_error( y_test, y_pred_rf)\n",
    "mse_rf = mean_squared_error( y_test, y_pred_rf)\n",
    "\n",
    "print(\"MAE: \", mae_rf)\n",
    "print(\"MSE: \", mse_rf)\n",
    "print(\"RMSE: \", np.sqrt(mse_rf))\n",
    "print(\"Score: \", regressor.score(X, y))"
   ]
  },
  {
   "source": [
    "XGBoost Model"
   ],
   "cell_type": "markdown",
   "metadata": {}
  },
  {
   "cell_type": "code",
   "execution_count": 126,
   "metadata": {},
   "outputs": [],
   "source": [
    "from xgboost import XGBRegressor\n",
    "xgb = XGBRegressor(silent = True)\n",
    "xgb.fit(X, y)\n",
    "y_pred_xgb = xgb.predict(X_test)"
   ]
  },
  {
   "cell_type": "code",
   "execution_count": 127,
   "metadata": {},
   "outputs": [
    {
     "output_type": "stream",
     "name": "stdout",
     "text": [
      "MAE:  37.13427970392241\nMSE:  2285.1926549835803\nRMSE:  47.80368871733206\nScore:  0.9861275583763045\n"
     ]
    }
   ],
   "source": [
    "from sklearn.metrics import mean_absolute_error, mean_squared_error\n",
    "mae_xgb = mean_absolute_error( y_test, y_pred_xgb)\n",
    "mse_xgb = mean_squared_error( y_test, y_pred_xgb)\n",
    "\n",
    "print(\"MAE: \", mae_xgb)\n",
    "print(\"MSE: \", mse_xgb)\n",
    "print(\"RMSE: \", np.sqrt(mse_xgb))\n",
    "print(\"Score: \", xgb.score(X, y))"
   ]
  },
  {
   "source": [
    "Long Short-Term Memory (LSTM) Model"
   ],
   "cell_type": "markdown",
   "metadata": {}
  },
  {
   "cell_type": "code",
   "execution_count": null,
   "metadata": {},
   "outputs": [],
   "source": []
  },
  {
   "source": [
    "Applying k-Fold Cross Validation"
   ],
   "cell_type": "markdown",
   "metadata": {}
  },
  {
   "cell_type": "code",
   "execution_count": 154,
   "metadata": {},
   "outputs": [
    {
     "output_type": "stream",
     "name": "stdout",
     "text": [
      "Accuracy: -121.98 %\nStandard Deviation: 144.45 %\nAccuracy: -171.23 %\nStandard Deviation: 179.21 %\nAccuracy: -150.11 %\nStandard Deviation: 149.65 %\n"
     ]
    }
   ],
   "source": [
    "from sklearn.model_selection import cross_val_score\n",
    "models = [linear, regressor, xgb]\n",
    "for model in models:\n",
    "    accuracies = cross_val_score(estimator = model, X = X, y = y, cv = 10)\n",
    "    print(\"Accuracy: {:.2f} %\".format(accuracies.mean()*100))\n",
    "    print(\"Standard Deviation: {:.2f} %\".format(accuracies.std()*100))"
   ]
  },
  {
   "source": [
    "Applying Grid Search to find the best model and the best parameters"
   ],
   "cell_type": "markdown",
   "metadata": {}
  },
  {
   "cell_type": "code",
   "execution_count": null,
   "metadata": {},
   "outputs": [],
   "source": [
    "from sklearn.model_selection import GridSearchCV\n",
    "parameters = [{'C': [0.25, 0.5, 0.75, 1], 'kernel': ['linear']},\n",
    "              {'C': [0.25, 0.5, 0.75, 1], 'kernel': ['rbf'], 'gamma': [0.1, 0.2, 0.3, 0.4, 0.5, 0.6, 0.7, 0.8, 0.9]}]\n",
    "grid_search = GridSearchCV(estimator = classifier,\n",
    "                           param_grid = parameters,\n",
    "                           scoring = 'accuracy',\n",
    "                           cv = 10,\n",
    "                           n_jobs = -1)\n",
    "grid_search.fit(X_train, y_train)\n",
    "best_accuracy = grid_search.best_score_\n",
    "best_parameters = grid_search.best_params_\n",
    "print(\"Best Accuracy: {:.2f} %\".format(best_accuracy*100))\n",
    "print(\"Best Parameters:\", best_parameters)"
   ]
  },
  {
   "cell_type": "code",
   "execution_count": null,
   "metadata": {},
   "outputs": [],
   "source": [
    "# Visualising the Training set results\n",
    "# Visualising the Test set results"
   ]
  }
 ]
}