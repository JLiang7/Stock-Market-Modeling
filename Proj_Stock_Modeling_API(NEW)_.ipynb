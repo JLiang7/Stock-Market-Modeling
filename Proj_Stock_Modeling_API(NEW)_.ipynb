{
 "cells": [
  {
   "cell_type": "markdown",
   "metadata": {},
   "source": [
    "Classification - Testing different models on one data set"
   ]
  },
  {
   "cell_type": "code",
   "execution_count": 1074,
   "metadata": {},
   "outputs": [],
   "source": [
    "# For the sake of showcase, to hide warnings\n",
    "import warnings\n",
    "warnings.filterwarnings('ignore')"
   ]
  },
  {
   "cell_type": "code",
   "execution_count": 1075,
   "metadata": {},
   "outputs": [],
   "source": [
    "# Import Libraries and Modules\n",
    "import pandas as pd\n",
    "import numpy as np\n",
    "import datetime as dt\n",
    "import time as time\n",
    "from pandas_datareader import data as pdr\n",
    "from datetime import datetime\n",
    "import matplotlib.pyplot as plt"
   ]
  },
  {
   "cell_type": "code",
   "execution_count": 1076,
   "metadata": {},
   "outputs": [],
   "source": [
    "#New change to yahoo API\n",
    "import yfinance as yf \n",
    "yf.pdr_override()"
   ]
  },
  {
   "cell_type": "markdown",
   "metadata": {},
   "source": [
    "Prepare Data"
   ]
  },
  {
   "cell_type": "code",
   "execution_count": 1077,
   "metadata": {
    "tags": []
   },
   "outputs": [
    {
     "data": {
      "text/plain": [
       "(Timestamp('2018-01-01 00:00:00'), Timestamp('2024-03-05 18:08:56.532176'))"
      ]
     },
     "execution_count": 1077,
     "metadata": {},
     "output_type": "execute_result"
    }
   ],
   "source": [
    "# Setting the Date\n",
    "start = pd.to_datetime('2018-01-01')\n",
    "end = pd.to_datetime('today')\n",
    "start, end"
   ]
  },
  {
   "cell_type": "code",
   "execution_count": 1078,
   "metadata": {},
   "outputs": [
    {
     "data": {
      "text/plain": [
       "(datetime.datetime(2000, 1, 1, 0, 0),\n",
       " datetime.datetime(2024, 3, 5, 18, 8, 56, 538256))"
      ]
     },
     "execution_count": 1078,
     "metadata": {},
     "output_type": "execute_result"
    }
   ],
   "source": [
    "start1 = dt.datetime(2000,1,1)\n",
    "end1 = dt.datetime.now()\n",
    "start1, end1"
   ]
  },
  {
   "cell_type": "code",
   "execution_count": 1079,
   "metadata": {},
   "outputs": [
    {
     "name": "stderr",
     "output_type": "stream",
     "text": [
      "[*********************100%%**********************]  1 of 1 completed\n"
     ]
    },
    {
     "data": {
      "text/html": [
       "<div>\n",
       "<style scoped>\n",
       "    .dataframe tbody tr th:only-of-type {\n",
       "        vertical-align: middle;\n",
       "    }\n",
       "\n",
       "    .dataframe tbody tr th {\n",
       "        vertical-align: top;\n",
       "    }\n",
       "\n",
       "    .dataframe thead th {\n",
       "        text-align: right;\n",
       "    }\n",
       "</style>\n",
       "<table border=\"1\" class=\"dataframe\">\n",
       "  <thead>\n",
       "    <tr style=\"text-align: right;\">\n",
       "      <th></th>\n",
       "      <th>Open</th>\n",
       "      <th>High</th>\n",
       "      <th>Low</th>\n",
       "      <th>Close</th>\n",
       "      <th>Adj Close</th>\n",
       "      <th>Volume</th>\n",
       "    </tr>\n",
       "    <tr>\n",
       "      <th>Date</th>\n",
       "      <th></th>\n",
       "      <th></th>\n",
       "      <th></th>\n",
       "      <th></th>\n",
       "      <th></th>\n",
       "      <th></th>\n",
       "    </tr>\n",
       "  </thead>\n",
       "  <tbody>\n",
       "    <tr>\n",
       "      <th>2018-01-02</th>\n",
       "      <td>156.559998</td>\n",
       "      <td>158.529999</td>\n",
       "      <td>156.169998</td>\n",
       "      <td>158.490005</td>\n",
       "      <td>152.072769</td>\n",
       "      <td>32573300</td>\n",
       "    </tr>\n",
       "    <tr>\n",
       "      <th>2018-01-03</th>\n",
       "      <td>158.639999</td>\n",
       "      <td>160.169998</td>\n",
       "      <td>158.610001</td>\n",
       "      <td>160.029999</td>\n",
       "      <td>153.550430</td>\n",
       "      <td>29383600</td>\n",
       "    </tr>\n",
       "    <tr>\n",
       "      <th>2018-01-04</th>\n",
       "      <td>160.580002</td>\n",
       "      <td>160.789993</td>\n",
       "      <td>160.080002</td>\n",
       "      <td>160.309998</td>\n",
       "      <td>153.819061</td>\n",
       "      <td>24776100</td>\n",
       "    </tr>\n",
       "    <tr>\n",
       "      <th>2018-01-05</th>\n",
       "      <td>161.070007</td>\n",
       "      <td>162.029999</td>\n",
       "      <td>160.770004</td>\n",
       "      <td>161.919998</td>\n",
       "      <td>155.363892</td>\n",
       "      <td>26992300</td>\n",
       "    </tr>\n",
       "    <tr>\n",
       "      <th>2018-01-08</th>\n",
       "      <td>161.919998</td>\n",
       "      <td>162.630005</td>\n",
       "      <td>161.860001</td>\n",
       "      <td>162.550003</td>\n",
       "      <td>155.968399</td>\n",
       "      <td>23159100</td>\n",
       "    </tr>\n",
       "  </tbody>\n",
       "</table>\n",
       "</div>"
      ],
      "text/plain": [
       "                  Open        High         Low       Close   Adj Close  \\\n",
       "Date                                                                     \n",
       "2018-01-02  156.559998  158.529999  156.169998  158.490005  152.072769   \n",
       "2018-01-03  158.639999  160.169998  158.610001  160.029999  153.550430   \n",
       "2018-01-04  160.580002  160.789993  160.080002  160.309998  153.819061   \n",
       "2018-01-05  161.070007  162.029999  160.770004  161.919998  155.363892   \n",
       "2018-01-08  161.919998  162.630005  161.860001  162.550003  155.968399   \n",
       "\n",
       "              Volume  \n",
       "Date                  \n",
       "2018-01-02  32573300  \n",
       "2018-01-03  29383600  \n",
       "2018-01-04  24776100  \n",
       "2018-01-05  26992300  \n",
       "2018-01-08  23159100  "
      ]
     },
     "execution_count": 1079,
     "metadata": {},
     "output_type": "execute_result"
    }
   ],
   "source": [
    "# Pandas DataReader API (Quandl, Google, Yahoo, AlphaVantage, sooq ...)\n",
    "Tickers = ['QQQ'] #'AAPL', 'TSLA', 'MSFT', 'AMZN', 'SPY'\n",
    "Stock_df = pdr.get_data_yahoo(Tickers, start, end) #Previously data.DataReader(Tickers, 'yahoo', start, end)\n",
    "Stock_df.head()\n"
   ]
  },
  {
   "cell_type": "code",
   "execution_count": 1080,
   "metadata": {},
   "outputs": [
    {
     "data": {
      "text/html": [
       "<div>\n",
       "<style scoped>\n",
       "    .dataframe tbody tr th:only-of-type {\n",
       "        vertical-align: middle;\n",
       "    }\n",
       "\n",
       "    .dataframe tbody tr th {\n",
       "        vertical-align: top;\n",
       "    }\n",
       "\n",
       "    .dataframe thead th {\n",
       "        text-align: right;\n",
       "    }\n",
       "</style>\n",
       "<table border=\"1\" class=\"dataframe\">\n",
       "  <thead>\n",
       "    <tr style=\"text-align: right;\">\n",
       "      <th></th>\n",
       "      <th>Date</th>\n",
       "      <th>Open</th>\n",
       "      <th>High</th>\n",
       "      <th>Low</th>\n",
       "      <th>Close</th>\n",
       "      <th>Adj Close</th>\n",
       "      <th>Volume</th>\n",
       "    </tr>\n",
       "  </thead>\n",
       "  <tbody>\n",
       "    <tr>\n",
       "      <th>0</th>\n",
       "      <td>2018-01-02</td>\n",
       "      <td>156.559998</td>\n",
       "      <td>158.529999</td>\n",
       "      <td>156.169998</td>\n",
       "      <td>158.490005</td>\n",
       "      <td>152.072769</td>\n",
       "      <td>32573300</td>\n",
       "    </tr>\n",
       "    <tr>\n",
       "      <th>1</th>\n",
       "      <td>2018-01-03</td>\n",
       "      <td>158.639999</td>\n",
       "      <td>160.169998</td>\n",
       "      <td>158.610001</td>\n",
       "      <td>160.029999</td>\n",
       "      <td>153.550430</td>\n",
       "      <td>29383600</td>\n",
       "    </tr>\n",
       "    <tr>\n",
       "      <th>2</th>\n",
       "      <td>2018-01-04</td>\n",
       "      <td>160.580002</td>\n",
       "      <td>160.789993</td>\n",
       "      <td>160.080002</td>\n",
       "      <td>160.309998</td>\n",
       "      <td>153.819061</td>\n",
       "      <td>24776100</td>\n",
       "    </tr>\n",
       "    <tr>\n",
       "      <th>3</th>\n",
       "      <td>2018-01-05</td>\n",
       "      <td>161.070007</td>\n",
       "      <td>162.029999</td>\n",
       "      <td>160.770004</td>\n",
       "      <td>161.919998</td>\n",
       "      <td>155.363892</td>\n",
       "      <td>26992300</td>\n",
       "    </tr>\n",
       "    <tr>\n",
       "      <th>4</th>\n",
       "      <td>2018-01-08</td>\n",
       "      <td>161.919998</td>\n",
       "      <td>162.630005</td>\n",
       "      <td>161.860001</td>\n",
       "      <td>162.550003</td>\n",
       "      <td>155.968399</td>\n",
       "      <td>23159100</td>\n",
       "    </tr>\n",
       "  </tbody>\n",
       "</table>\n",
       "</div>"
      ],
      "text/plain": [
       "        Date        Open        High         Low       Close   Adj Close  \\\n",
       "0 2018-01-02  156.559998  158.529999  156.169998  158.490005  152.072769   \n",
       "1 2018-01-03  158.639999  160.169998  158.610001  160.029999  153.550430   \n",
       "2 2018-01-04  160.580002  160.789993  160.080002  160.309998  153.819061   \n",
       "3 2018-01-05  161.070007  162.029999  160.770004  161.919998  155.363892   \n",
       "4 2018-01-08  161.919998  162.630005  161.860001  162.550003  155.968399   \n",
       "\n",
       "     Volume  \n",
       "0  32573300  \n",
       "1  29383600  \n",
       "2  24776100  \n",
       "3  26992300  \n",
       "4  23159100  "
      ]
     },
     "execution_count": 1080,
     "metadata": {},
     "output_type": "execute_result"
    }
   ],
   "source": [
    "Stock_df.reset_index( drop=False, inplace=True)\n",
    "#Stock_df['Date'] = pd.to_datetime(Stock_df['Date'])\n",
    "#Stock_df.reset_index( drop=True, inplace=True)\n",
    "#Stock_df.sort_values( by=['Date'], ascending=True, inplace=True)\n",
    "#Stock_df.columns = Stock_df.columns.droplevel(-1)\n",
    "Stock_df.head()"
   ]
  },
  {
   "cell_type": "code",
   "execution_count": 1081,
   "metadata": {},
   "outputs": [
    {
     "data": {
      "text/plain": [
       "RangeIndex(start=0, stop=1553, step=1)"
      ]
     },
     "execution_count": 1081,
     "metadata": {},
     "output_type": "execute_result"
    }
   ],
   "source": [
    "Stock_df.index"
   ]
  },
  {
   "cell_type": "code",
   "execution_count": 1082,
   "metadata": {},
   "outputs": [
    {
     "data": {
      "text/plain": [
       "Index(['Date', 'Open', 'High', 'Low', 'Close', 'Adj Close', 'Volume'], dtype='object')"
      ]
     },
     "execution_count": 1082,
     "metadata": {},
     "output_type": "execute_result"
    }
   ],
   "source": [
    "Stock_df.columns"
   ]
  },
  {
   "cell_type": "code",
   "execution_count": 1083,
   "metadata": {},
   "outputs": [
    {
     "data": {
      "text/plain": [
       "0    158.490005\n",
       "1    160.029999\n",
       "2    160.309998\n",
       "3    161.919998\n",
       "4    162.550003\n",
       "Name: Close, dtype: float64"
      ]
     },
     "execution_count": 1083,
     "metadata": {},
     "output_type": "execute_result"
    }
   ],
   "source": [
    "Adj_close = Stock_df.Close\n",
    "Adj_close.head()"
   ]
  },
  {
   "cell_type": "code",
   "execution_count": 1084,
   "metadata": {},
   "outputs": [
    {
     "data": {
      "image/png": "[encoded data removed]",
      "text/plain": [
       "<Figure size 1000x700 with 1 Axes>"
      ]
     },
     "metadata": {},
     "output_type": "display_data"
    }
   ],
   "source": [
    "# Plot the Close price\n",
    "Stock_df['Close'].plot( figsize = ( 10, 7))\n",
    "# Define the label for the title of the figure\n",
    "plt.title( \"Close Price of %s\" % Tickers, fontsize = 18)\n",
    "# Define the labels for x-axis and y-axis\n",
    "plt.ylabel( 'Price', fontsize = 20)\n",
    "plt.xlabel( 'Year', fontsize = 20)\n",
    "# Plot the grid lines\n",
    "plt.grid( which=\"major\", color = 'k', linestyle = '-.', linewidth = 0.5)\n",
    "# Show the plot\n",
    "plt.show()"
   ]
  },
  {
   "cell_type": "code",
   "execution_count": 1085,
   "metadata": {},
   "outputs": [
    {
     "data": {
      "text/html": [
       "<div>\n",
       "<style scoped>\n",
       "    .dataframe tbody tr th:only-of-type {\n",
       "        vertical-align: middle;\n",
       "    }\n",
       "\n",
       "    .dataframe tbody tr th {\n",
       "        vertical-align: top;\n",
       "    }\n",
       "\n",
       "    .dataframe thead th {\n",
       "        text-align: right;\n",
       "    }\n",
       "</style>\n",
       "<table border=\"1\" class=\"dataframe\">\n",
       "  <thead>\n",
       "    <tr style=\"text-align: right;\">\n",
       "      <th></th>\n",
       "      <th>Date</th>\n",
       "      <th>Open</th>\n",
       "      <th>High</th>\n",
       "      <th>Low</th>\n",
       "      <th>Close</th>\n",
       "      <th>Adj Close</th>\n",
       "      <th>Volume</th>\n",
       "      <th>Avg_5</th>\n",
       "      <th>Avg_30</th>\n",
       "      <th>Avg_365</th>\n",
       "      <th>Std_5</th>\n",
       "      <th>Std_30</th>\n",
       "      <th>Std_365</th>\n",
       "      <th>Avg_5/365</th>\n",
       "      <th>Std_5/365</th>\n",
       "    </tr>\n",
       "  </thead>\n",
       "  <tbody>\n",
       "    <tr>\n",
       "      <th>365</th>\n",
       "      <td>2019-06-14</td>\n",
       "      <td>182.479996</td>\n",
       "      <td>183.110001</td>\n",
       "      <td>181.940002</td>\n",
       "      <td>182.639999</td>\n",
       "      <td>177.047318</td>\n",
       "      <td>22844100.0</td>\n",
       "      <td>182.989996</td>\n",
       "      <td>181.043333</td>\n",
       "      <td>172.110822</td>\n",
       "      <td>0.480520</td>\n",
       "      <td>9.324735</td>\n",
       "      <td>9.324735</td>\n",
       "      <td>1.063210</td>\n",
       "      <td>0.051532</td>\n",
       "    </tr>\n",
       "    <tr>\n",
       "      <th>366</th>\n",
       "      <td>2019-06-17</td>\n",
       "      <td>183.039993</td>\n",
       "      <td>184.250000</td>\n",
       "      <td>182.839996</td>\n",
       "      <td>183.740005</td>\n",
       "      <td>178.113586</td>\n",
       "      <td>20379500.0</td>\n",
       "      <td>183.107999</td>\n",
       "      <td>180.797666</td>\n",
       "      <td>172.180000</td>\n",
       "      <td>0.589680</td>\n",
       "      <td>9.317066</td>\n",
       "      <td>9.317066</td>\n",
       "      <td>1.063468</td>\n",
       "      <td>0.063290</td>\n",
       "    </tr>\n",
       "    <tr>\n",
       "      <th>367</th>\n",
       "      <td>2019-06-18</td>\n",
       "      <td>185.910004</td>\n",
       "      <td>187.720001</td>\n",
       "      <td>185.429993</td>\n",
       "      <td>186.410004</td>\n",
       "      <td>180.701874</td>\n",
       "      <td>48177300.0</td>\n",
       "      <td>183.710001</td>\n",
       "      <td>180.680000</td>\n",
       "      <td>172.252274</td>\n",
       "      <td>1.612206</td>\n",
       "      <td>9.324871</td>\n",
       "      <td>9.324871</td>\n",
       "      <td>1.066517</td>\n",
       "      <td>0.172893</td>\n",
       "    </tr>\n",
       "    <tr>\n",
       "      <th>368</th>\n",
       "      <td>2019-06-19</td>\n",
       "      <td>186.660004</td>\n",
       "      <td>187.529999</td>\n",
       "      <td>185.570007</td>\n",
       "      <td>187.110001</td>\n",
       "      <td>181.380417</td>\n",
       "      <td>31672900.0</td>\n",
       "      <td>184.664001</td>\n",
       "      <td>180.709000</td>\n",
       "      <td>172.325699</td>\n",
       "      <td>1.970364</td>\n",
       "      <td>9.336085</td>\n",
       "      <td>9.336085</td>\n",
       "      <td>1.071599</td>\n",
       "      <td>0.211048</td>\n",
       "    </tr>\n",
       "    <tr>\n",
       "      <th>369</th>\n",
       "      <td>2019-06-20</td>\n",
       "      <td>189.720001</td>\n",
       "      <td>189.759995</td>\n",
       "      <td>187.160004</td>\n",
       "      <td>188.850006</td>\n",
       "      <td>183.067139</td>\n",
       "      <td>40922000.0</td>\n",
       "      <td>185.750003</td>\n",
       "      <td>180.811666</td>\n",
       "      <td>172.399480</td>\n",
       "      <td>2.530189</td>\n",
       "      <td>9.360005</td>\n",
       "      <td>9.360005</td>\n",
       "      <td>1.077439</td>\n",
       "      <td>0.270319</td>\n",
       "    </tr>\n",
       "  </tbody>\n",
       "</table>\n",
       "</div>"
      ],
      "text/plain": [
       "          Date        Open        High         Low       Close   Adj Close  \\\n",
       "365 2019-06-14  182.479996  183.110001  181.940002  182.639999  177.047318   \n",
       "366 2019-06-17  183.039993  184.250000  182.839996  183.740005  178.113586   \n",
       "367 2019-06-18  185.910004  187.720001  185.429993  186.410004  180.701874   \n",
       "368 2019-06-19  186.660004  187.529999  185.570007  187.110001  181.380417   \n",
       "369 2019-06-20  189.720001  189.759995  187.160004  188.850006  183.067139   \n",
       "\n",
       "         Volume       Avg_5      Avg_30     Avg_365     Std_5    Std_30  \\\n",
       "365  22844100.0  182.989996  181.043333  172.110822  0.480520  9.324735   \n",
       "366  20379500.0  183.107999  180.797666  172.180000  0.589680  9.317066   \n",
       "367  48177300.0  183.710001  180.680000  172.252274  1.612206  9.324871   \n",
       "368  31672900.0  184.664001  180.709000  172.325699  1.970364  9.336085   \n",
       "369  40922000.0  185.750003  180.811666  172.399480  2.530189  9.360005   \n",
       "\n",
       "      Std_365  Avg_5/365  Std_5/365  \n",
       "365  9.324735   1.063210   0.051532  \n",
       "366  9.317066   1.063468   0.063290  \n",
       "367  9.324871   1.066517   0.172893  \n",
       "368  9.336085   1.071599   0.211048  \n",
       "369  9.360005   1.077439   0.270319  "
      ]
     },
     "execution_count": 1085,
     "metadata": {},
     "output_type": "execute_result"
    }
   ],
   "source": [
    "# Data Aggregations on Closing price\n",
    "Stock_df['Avg_5'] = Stock_df['Close'].rolling( window = 5, center = False).mean()\n",
    "Stock_df['Avg_30'] = Stock_df['Close'].rolling( window = 30, center = False).mean()\n",
    "Stock_df['Avg_365'] = Stock_df['Close'].rolling( window = 365, center = False).mean()\n",
    "Stock_df['Std_5'] = Stock_df['Close'].rolling( window = 5, center = False).std()\n",
    "Stock_df['Std_30'] = Stock_df['Close'].rolling( window = 365, center = False).std()\n",
    "Stock_df['Std_365'] = Stock_df['Close'].rolling( window = 365, center = False).std()\n",
    "Stock_df['Avg_5/365'] = Stock_df['Avg_5']/Stock_df['Avg_365']\n",
    "Stock_df['Std_5/365'] = Stock_df['Std_5']/Stock_df['Std_365']\n",
    "\n",
    "Stock_df = Stock_df.shift( periods = 1)\n",
    "Stock_df.dropna( how= 'any', axis = 0, inplace = True)\n",
    "\n",
    "Stock_df.head()"
   ]
  },
  {
   "cell_type": "code",
   "execution_count": 1086,
   "metadata": {},
   "outputs": [],
   "source": [
    "# Splitting Data to Training and Test sets\n",
    "df_train = Stock_df[Stock_df['Date'] < datetime(year = 2019, month = 9, day = 1)]\n",
    "df_test = Stock_df[Stock_df['Date'] >= datetime(year = 2019, month = 9, day = 1)]\n",
    "features = ['Avg_5', 'Avg_30', 'Avg_365', 'Std_5', 'Std_30', 'Std_365', 'Avg_5/365', 'Std_5/365']\n",
    "target = ['Close']\n",
    "X = df_train[features]\n",
    "X_test = df_test[features]\n",
    "y = df_train[target]\n",
    "y_test = df_test[target]"
   ]
  },
  {
   "cell_type": "markdown",
   "metadata": {},
   "source": [
    "Linear Regression Model"
   ]
  },
  {
   "cell_type": "code",
   "execution_count": 1087,
   "metadata": {},
   "outputs": [
    {
     "name": "stdout",
     "output_type": "stream",
     "text": [
      "Coef:  [[-4.13281718e+01  2.39524541e-01  4.31483494e+01 -4.16057118e+01\n",
      "   4.96693591e+00  4.96693591e+00  7.28924340e+03  4.06423102e+02]]\n",
      "Intercept:  [-7567.73250189]\n"
     ]
    }
   ],
   "source": [
    "# Fitting Linear Regression to the dataset and predicting a new result\n",
    "from sklearn.linear_model import LinearRegression\n",
    "linear = LinearRegression()\n",
    "linear.fit(X, y)\n",
    "print(\"Coef: \", linear.coef_)\n",
    "print(\"Intercept: \", linear.intercept_)\n",
    "y_pred_linear = linear.predict(X_test)"
   ]
  },
  {
   "cell_type": "code",
   "execution_count": 1088,
   "metadata": {},
   "outputs": [
    {
     "name": "stdout",
     "output_type": "stream",
     "text": [
      "MAE:  671.4244880072262\n",
      "MSE:  685357.7921357517\n",
      "RMSE:  827.8633897786226\n",
      "Score:  0.8051360446492769\n"
     ]
    }
   ],
   "source": [
    "from sklearn.metrics import mean_absolute_error, mean_squared_error, r2_score\n",
    "mae_l = mean_absolute_error( y_test, y_pred_linear)\n",
    "mse_l = mean_squared_error( y_test, y_pred_linear)\n",
    "\n",
    "print(\"MAE: \", mae_l)\n",
    "print(\"MSE: \", mse_l)\n",
    "print(\"RMSE: \", np.sqrt(mse_l))\n",
    "print(\"Score: \", linear.score(X, y))\n",
    "#r2_score(y , y_pred_linear)"
   ]
  },
  {
   "cell_type": "markdown",
   "metadata": {},
   "source": [
    "Random Forest Regression Model"
   ]
  },
  {
   "cell_type": "code",
   "execution_count": 1089,
   "metadata": {},
   "outputs": [],
   "source": [
    "from sklearn.ensemble import RandomForestRegressor\n",
    "regressor = RandomForestRegressor(n_estimators = 100, min_samples_split=100, random_state = 42)\n",
    "regressor.fit(X, y)\n",
    "#print(\"Coef: \", regressor.coef_)\n",
    "#print(\"Intercept: \", regressor.intercept_)\n",
    "y_pred_rf = regressor.predict(X_test)"
   ]
  },
  {
   "cell_type": "code",
   "execution_count": 1090,
   "metadata": {},
   "outputs": [
    {
     "name": "stdout",
     "output_type": "stream",
     "text": [
      "MAE:  122.12862652095713\n",
      "MSE:  18790.689020964994\n",
      "RMSE:  137.07913415602314\n",
      "Score:  -0.0004271191933657992\n"
     ]
    }
   ],
   "source": [
    "from sklearn.metrics import mean_absolute_error, mean_squared_error\n",
    "mae_rf = mean_absolute_error( y_test, y_pred_rf)\n",
    "mse_rf = mean_squared_error( y_test, y_pred_rf)\n",
    "\n",
    "print(\"MAE: \", mae_rf)\n",
    "print(\"MSE: \", mse_rf)\n",
    "print(\"RMSE: \", np.sqrt(mse_rf))\n",
    "print(\"Score: \", regressor.score(X, y))"
   ]
  },
  {
   "cell_type": "markdown",
   "metadata": {},
   "source": [
    "XGBoost Model"
   ]
  },
  {
   "cell_type": "code",
   "execution_count": 1091,
   "metadata": {},
   "outputs": [],
   "source": [
    "from xgboost import XGBRegressor\n",
    "xgb = XGBRegressor(silent = True)\n",
    "xgb.fit(X, y)\n",
    "y_pred_xgb = xgb.predict(X_test)"
   ]
  },
  {
   "cell_type": "code",
   "execution_count": 1092,
   "metadata": {},
   "outputs": [
    {
     "name": "stdout",
     "output_type": "stream",
     "text": [
      "MAE:  121.84244779096908\n",
      "MSE:  18688.25172040492\n",
      "RMSE:  136.70498059838536\n",
      "Score:  0.9999999482709582\n"
     ]
    }
   ],
   "source": [
    "from sklearn.metrics import mean_absolute_error, mean_squared_error\n",
    "mae_xgb = mean_absolute_error( y_test, y_pred_xgb)\n",
    "mse_xgb = mean_squared_error( y_test, y_pred_xgb)\n",
    "\n",
    "print(\"MAE: \", mae_xgb)\n",
    "print(\"MSE: \", mse_xgb)\n",
    "print(\"RMSE: \", np.sqrt(mse_xgb))\n",
    "print(\"Score: \", xgb.score(X, y))"
   ]
  },
  {
   "cell_type": "markdown",
   "metadata": {},
   "source": [
    "Long Short-Term Memory (LSTM) Model"
   ]
  },
  {
   "cell_type": "code",
   "execution_count": 2,
   "metadata": {},
   "outputs": [],
   "source": [
    "from sklearn.preprocessing import MinMaxScaler\n",
    "from tensorflow.keras.models import Sequential\n",
    "from tensorflow.keras.layers import Dense\n",
    "from tensorflow.keras.layers import LSTM\n",
    "import math\n",
    "from sklearn.metrics import mean_squared_error"
   ]
  },
  {
   "cell_type": "markdown",
   "metadata": {},
   "source": [
    "Applying k-Fold Cross Validation"
   ]
  },
  {
   "cell_type": "code",
   "execution_count": 1071,
   "metadata": {},
   "outputs": [
    {
     "name": "stdout",
     "output_type": "stream",
     "text": [
      "Accuracy: -123.13 %\n",
      "Standard Deviation: 144.61 %\n"
     ]
    },
    {
     "name": "stdout",
     "output_type": "stream",
     "text": [
      "Accuracy: -878.12 %\n",
      "Standard Deviation: 1447.02 %\n",
      "Accuracy: -282.82 %\n",
      "Standard Deviation: 443.33 %\n"
     ]
    }
   ],
   "source": [
    "from sklearn.model_selection import cross_val_score\n",
    "models = [linear, regressor, xgb]\n",
    "for model in models:\n",
    "    accuracies = cross_val_score(estimator = model, X = X, y = y, cv = 10)\n",
    "    print(\"Accuracy: {:.2f} %\".format(accuracies.mean()*100))\n",
    "    print(\"Standard Deviation: {:.2f} %\".format(accuracies.std()*100))"
   ]
  },
  {
   "cell_type": "markdown",
   "metadata": {},
   "source": [
    "Applying Grid Search to find the best model and the best parameters"
   ]
  },
  {
   "cell_type": "code",
   "execution_count": 1072,
   "metadata": {},
   "outputs": [
    {
     "name": "stdout",
     "output_type": "stream",
     "text": [
      "Fitting 10 folds for each of 216 candidates, totalling 2160 fits\n"
     ]
    }
   ],
   "source": [
    "from sklearn.model_selection import GridSearchCV\n",
    "parameters = [{'C': [0.25, 0.5, 0.75, 1], 'kernel': ['linear']},\n",
    "              {'C': [0.25, 0.5, 0.75, 1], 'kernel': ['rbf'], 'gamma': [0.1, 0.2, 0.3, 0.4, 0.5, 0.6, 0.7, 0.8, 0.9]}]\n",
    "param_grid = {\n",
    "    'bootstrap': [True],\n",
    "    'max_depth': [80, 90, 100, 110],\n",
    "    'max_features': [2, 3],\n",
    "    'min_samples_leaf': [3, 4, 5],\n",
    "    'min_samples_split': [8, 10, 12],\n",
    "    'n_estimators': [100, 200, 300]\n",
    "}\n",
    "grid_search = GridSearchCV(estimator = regressor,\n",
    "                           param_grid = param_grid,               \n",
    "                           cv = 10,\n",
    "                           n_jobs = -1,\n",
    "                           verbose = 2)\n",
    "grid_search.fit(X, y)\n",
    "#best_accuracy = grid_search.best_score_\n",
    "#best_parameters = grid_search.best_params_\n",
    "#print(\"Best Accuracy: {:.2f} %\".format(best_accuracy*100))\n",
    "#print(\"Best Parameters:\", best_parameters)\n",
    "grid_search.best_params_\n",
    "best_grid = grid_search.best_estimator_\n"
   ]
  },
  {
   "cell_type": "code",
   "execution_count": 1073,
   "metadata": {},
   "outputs": [],
   "source": [
    "# Visualising the Training set results\n",
    "# Visualising the Test set results"
   ]
  }
 ],
 "metadata": {
  "file_extension": ".py",
  "kernelspec": {
   "display_name": "Python 3",
   "language": "python",
   "name": "python3"
  },
  "language_info": {
   "codemirror_mode": {
    "name": "ipython",
    "version": 3
   },
   "file_extension": ".py",
   "mimetype": "text/x-python",
   "name": "python",
   "nbconvert_exporter": "python",
   "pygments_lexer": "ipython3",
   "version": "3.12.2"
  },
  "mimetype": "text/x-python",
  "name": "python",
  "npconvert_exporter": "python",
  "orig_nbformat": 2,
  "pygments_lexer": "ipython3",
  "version": 3
 },
 "nbformat": 4,
 "nbformat_minor": 2
}
