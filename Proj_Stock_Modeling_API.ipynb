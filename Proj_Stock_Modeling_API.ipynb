{
 "cells": [
  {
   "cell_type": "markdown",
   "metadata": {},
   "source": [
    "Classification - Testing different models on one data set"
   ]
  },
  {
   "cell_type": "code",
   "execution_count": 1,
   "metadata": {},
   "outputs": [],
   "source": [
    "# For the sake of showcase, to hide warnings\n",
    "import warnings\n",
    "warnings.filterwarnings('ignore')"
   ]
  },
  {
   "cell_type": "code",
   "execution_count": 2,
   "metadata": {},
   "outputs": [],
   "source": [
    "# Import Libraries and Modules\n",
    "import pandas as pd\n",
    "import numpy as np\n",
    "import time\n",
    "from pandas_datareader import data as pdr\n",
    "from datetime import datetime\n",
    "import matplotlib.pyplot as plt"
   ]
  },
  {
   "cell_type": "code",
   "execution_count": 3,
   "metadata": {},
   "outputs": [],
   "source": [
    "#New change to yahoo API\n",
    "import yfinance as yf \n",
    "yf.pdr_override()"
   ]
  },
  {
   "cell_type": "markdown",
   "metadata": {},
   "source": [
    "Prepare Data"
   ]
  },
  {
   "cell_type": "code",
   "execution_count": 4,
   "metadata": {
    "tags": []
   },
   "outputs": [],
   "source": [
    "# Setting the Date\n",
    "start = pd.to_datetime('2018-01-01')\n",
    "end = pd.to_datetime('today')"
   ]
  },
  {
   "cell_type": "code",
   "execution_count": 5,
   "metadata": {},
   "outputs": [
    {
     "name": "stderr",
     "output_type": "stream",
     "text": [
      "[*********************100%%**********************]  1 of 1 completed\n"
     ]
    },
    {
     "data": {
      "text/html": [
       "<div>\n",
       "<style scoped>\n",
       "    .dataframe tbody tr th:only-of-type {\n",
       "        vertical-align: middle;\n",
       "    }\n",
       "\n",
       "    .dataframe tbody tr th {\n",
       "        vertical-align: top;\n",
       "    }\n",
       "\n",
       "    .dataframe thead th {\n",
       "        text-align: right;\n",
       "    }\n",
       "</style>\n",
       "<table border=\"1\" class=\"dataframe\">\n",
       "  <thead>\n",
       "    <tr style=\"text-align: right;\">\n",
       "      <th></th>\n",
       "      <th>Date</th>\n",
       "      <th>Open</th>\n",
       "      <th>High</th>\n",
       "      <th>Low</th>\n",
       "      <th>Close</th>\n",
       "      <th>Adj Close</th>\n",
       "      <th>Volume</th>\n",
       "    </tr>\n",
       "  </thead>\n",
       "  <tbody>\n",
       "    <tr>\n",
       "      <th>0</th>\n",
       "      <td>2018-01-02</td>\n",
       "      <td>156.559998</td>\n",
       "      <td>158.529999</td>\n",
       "      <td>156.169998</td>\n",
       "      <td>158.490005</td>\n",
       "      <td>152.072800</td>\n",
       "      <td>32573300</td>\n",
       "    </tr>\n",
       "    <tr>\n",
       "      <th>1</th>\n",
       "      <td>2018-01-03</td>\n",
       "      <td>158.639999</td>\n",
       "      <td>160.169998</td>\n",
       "      <td>158.610001</td>\n",
       "      <td>160.029999</td>\n",
       "      <td>153.550415</td>\n",
       "      <td>29383600</td>\n",
       "    </tr>\n",
       "    <tr>\n",
       "      <th>2</th>\n",
       "      <td>2018-01-04</td>\n",
       "      <td>160.580002</td>\n",
       "      <td>160.789993</td>\n",
       "      <td>160.080002</td>\n",
       "      <td>160.309998</td>\n",
       "      <td>153.819077</td>\n",
       "      <td>24776100</td>\n",
       "    </tr>\n",
       "    <tr>\n",
       "      <th>3</th>\n",
       "      <td>2018-01-05</td>\n",
       "      <td>161.070007</td>\n",
       "      <td>162.029999</td>\n",
       "      <td>160.770004</td>\n",
       "      <td>161.919998</td>\n",
       "      <td>155.363907</td>\n",
       "      <td>26992300</td>\n",
       "    </tr>\n",
       "    <tr>\n",
       "      <th>4</th>\n",
       "      <td>2018-01-08</td>\n",
       "      <td>161.919998</td>\n",
       "      <td>162.630005</td>\n",
       "      <td>161.860001</td>\n",
       "      <td>162.550003</td>\n",
       "      <td>155.968369</td>\n",
       "      <td>23159100</td>\n",
       "    </tr>\n",
       "  </tbody>\n",
       "</table>\n",
       "</div>"
      ],
      "text/plain": [
       "        Date        Open        High  ...       Close   Adj Close    Volume\n",
       "0 2018-01-02  156.559998  158.529999  ...  158.490005  152.072800  32573300\n",
       "1 2018-01-03  158.639999  160.169998  ...  160.029999  153.550415  29383600\n",
       "2 2018-01-04  160.580002  160.789993  ...  160.309998  153.819077  24776100\n",
       "3 2018-01-05  161.070007  162.029999  ...  161.919998  155.363907  26992300\n",
       "4 2018-01-08  161.919998  162.630005  ...  162.550003  155.968369  23159100\n",
       "\n",
       "[5 rows x 7 columns]"
      ]
     },
     "execution_count": 5,
     "metadata": {},
     "output_type": "execute_result"
    }
   ],
   "source": [
    "# Datareader with yahoo api does not work with the new changes\n",
    "# Pandas DataReader API (Quandl, Google, Yahoo, AlphaVantage, sooq ...)\n",
    "Tickers = ['QQQ'] #'AAPL', 'TSLA', 'MSFT', 'AMZN', 'SPY'\n",
    "Stock_df = pdr.get_data_yahoo(Tickers, start, end) #Previously data.DataReader(Tickers, 'yahoo', start, end)\n",
    "Stock_df.reset_index( drop=False, inplace=True)\n",
    "Stock_df['Date'] = pd.to_datetime(Stock_df['Date'])\n",
    "Stock_df.reset_index( drop=True, inplace=True)\n",
    "Stock_df.sort_values( by=['Date'], ascending=True, inplace=True)\n",
    "#Stock_df.columns = Stock_df.columns.droplevel(-1)\n",
    "Stock_df.head()"
   ]
  },
  {
   "cell_type": "code",
   "execution_count": 6,
   "metadata": {},
   "outputs": [
    {
     "data": {
      "image/png": "[encoded data removed]",
      "text/plain": [
       "<Figure size 1000x700 with 1 Axes>"
      ]
     },
     "metadata": {},
     "output_type": "display_data"
    }
   ],
   "source": [
    "# Plot the adjusted close price\n",
    "Stock_df['Adj Close'].plot( figsize = ( 10, 7))\n",
    "# Define the label for the title of the figure\n",
    "plt.title( \"Adjusted Close Price of %s\" % Tickers, fontsize = 18)\n",
    "# Define the labels for x-axis and y-axis\n",
    "plt.ylabel( 'Price', fontsize = 20)\n",
    "plt.xlabel( 'Year', fontsize = 20)\n",
    "# Plot the grid lines\n",
    "plt.grid( which=\"major\", color = 'k', linestyle = '-.', linewidth = 0.5)\n",
    "# Show the plot\n",
    "plt.show()"
   ]
  },
  {
   "cell_type": "code",
   "execution_count": 7,
   "metadata": {},
   "outputs": [
    {
     "data": {
      "text/html": [
       "<div>\n",
       "<style scoped>\n",
       "    .dataframe tbody tr th:only-of-type {\n",
       "        vertical-align: middle;\n",
       "    }\n",
       "\n",
       "    .dataframe tbody tr th {\n",
       "        vertical-align: top;\n",
       "    }\n",
       "\n",
       "    .dataframe thead th {\n",
       "        text-align: right;\n",
       "    }\n",
       "</style>\n",
       "<table border=\"1\" class=\"dataframe\">\n",
       "  <thead>\n",
       "    <tr style=\"text-align: right;\">\n",
       "      <th></th>\n",
       "      <th>Date</th>\n",
       "      <th>Open</th>\n",
       "      <th>High</th>\n",
       "      <th>Low</th>\n",
       "      <th>Close</th>\n",
       "      <th>Adj Close</th>\n",
       "      <th>Volume</th>\n",
       "      <th>Avg_5</th>\n",
       "      <th>Avg_30</th>\n",
       "      <th>Avg_365</th>\n",
       "      <th>Std_5</th>\n",
       "      <th>Std_30</th>\n",
       "      <th>Std_365</th>\n",
       "      <th>Avg_5/365</th>\n",
       "      <th>Std_5/365</th>\n",
       "    </tr>\n",
       "  </thead>\n",
       "  <tbody>\n",
       "    <tr>\n",
       "      <th>365</th>\n",
       "      <td>2019-06-14</td>\n",
       "      <td>182.479996</td>\n",
       "      <td>183.110001</td>\n",
       "      <td>181.940002</td>\n",
       "      <td>182.639999</td>\n",
       "      <td>177.047272</td>\n",
       "      <td>22844100.0</td>\n",
       "      <td>177.386557</td>\n",
       "      <td>175.499512</td>\n",
       "      <td>165.982724</td>\n",
       "      <td>0.465801</td>\n",
       "      <td>9.246373</td>\n",
       "      <td>9.246373</td>\n",
       "      <td>1.068705</td>\n",
       "      <td>0.050377</td>\n",
       "    </tr>\n",
       "    <tr>\n",
       "      <th>366</th>\n",
       "      <td>2019-06-17</td>\n",
       "      <td>183.039993</td>\n",
       "      <td>184.250000</td>\n",
       "      <td>182.839996</td>\n",
       "      <td>183.740005</td>\n",
       "      <td>178.113617</td>\n",
       "      <td>20379500.0</td>\n",
       "      <td>177.500946</td>\n",
       "      <td>175.261368</td>\n",
       "      <td>166.054069</td>\n",
       "      <td>0.571623</td>\n",
       "      <td>9.239212</td>\n",
       "      <td>9.239212</td>\n",
       "      <td>1.068935</td>\n",
       "      <td>0.061869</td>\n",
       "    </tr>\n",
       "    <tr>\n",
       "      <th>367</th>\n",
       "      <td>2019-06-18</td>\n",
       "      <td>185.910004</td>\n",
       "      <td>187.720001</td>\n",
       "      <td>185.429993</td>\n",
       "      <td>186.410004</td>\n",
       "      <td>180.701859</td>\n",
       "      <td>48177300.0</td>\n",
       "      <td>178.084518</td>\n",
       "      <td>175.147306</td>\n",
       "      <td>166.128457</td>\n",
       "      <td>1.562846</td>\n",
       "      <td>9.247563</td>\n",
       "      <td>9.247563</td>\n",
       "      <td>1.071969</td>\n",
       "      <td>0.169001</td>\n",
       "    </tr>\n",
       "    <tr>\n",
       "      <th>368</th>\n",
       "      <td>2019-06-19</td>\n",
       "      <td>186.660004</td>\n",
       "      <td>187.529999</td>\n",
       "      <td>185.570007</td>\n",
       "      <td>187.110001</td>\n",
       "      <td>181.380417</td>\n",
       "      <td>31672900.0</td>\n",
       "      <td>179.009308</td>\n",
       "      <td>175.175419</td>\n",
       "      <td>166.203967</td>\n",
       "      <td>1.910040</td>\n",
       "      <td>9.259293</td>\n",
       "      <td>9.259293</td>\n",
       "      <td>1.077046</td>\n",
       "      <td>0.206284</td>\n",
       "    </tr>\n",
       "    <tr>\n",
       "      <th>369</th>\n",
       "      <td>2019-06-20</td>\n",
       "      <td>189.720001</td>\n",
       "      <td>189.759995</td>\n",
       "      <td>187.160004</td>\n",
       "      <td>188.850006</td>\n",
       "      <td>183.067139</td>\n",
       "      <td>40922000.0</td>\n",
       "      <td>180.062061</td>\n",
       "      <td>175.274942</td>\n",
       "      <td>166.279866</td>\n",
       "      <td>2.452717</td>\n",
       "      <td>9.283703</td>\n",
       "      <td>9.283703</td>\n",
       "      <td>1.082886</td>\n",
       "      <td>0.264196</td>\n",
       "    </tr>\n",
       "  </tbody>\n",
       "</table>\n",
       "</div>"
      ],
      "text/plain": [
       "          Date        Open        High  ...   Std_365  Avg_5/365  Std_5/365\n",
       "365 2019-06-14  182.479996  183.110001  ...  9.246373   1.068705   0.050377\n",
       "366 2019-06-17  183.039993  184.250000  ...  9.239212   1.068935   0.061869\n",
       "367 2019-06-18  185.910004  187.720001  ...  9.247563   1.071969   0.169001\n",
       "368 2019-06-19  186.660004  187.529999  ...  9.259293   1.077046   0.206284\n",
       "369 2019-06-20  189.720001  189.759995  ...  9.283703   1.082886   0.264196\n",
       "\n",
       "[5 rows x 15 columns]"
      ]
     },
     "execution_count": 7,
     "metadata": {},
     "output_type": "execute_result"
    }
   ],
   "source": [
    "# Data Aggregations on adjusted closing price\n",
    "Stock_df['Avg_5'] = Stock_df['Adj Close'].rolling( window = 5, center = False).mean()\n",
    "Stock_df['Avg_30'] = Stock_df['Adj Close'].rolling( window = 30, center = False).mean()\n",
    "Stock_df['Avg_365'] = Stock_df['Adj Close'].rolling( window = 365, center = False).mean()\n",
    "Stock_df['Std_5'] = Stock_df['Adj Close'].rolling( window = 5, center = False).std()\n",
    "Stock_df['Std_30'] = Stock_df['Adj Close'].rolling( window = 365, center = False).std()\n",
    "Stock_df['Std_365'] = Stock_df['Adj Close'].rolling( window = 365, center = False).std()\n",
    "Stock_df['Avg_5/365'] = Stock_df['Avg_5']/Stock_df['Avg_365']\n",
    "Stock_df['Std_5/365'] = Stock_df['Std_5']/Stock_df['Std_365']\n",
    "\n",
    "Stock_df = Stock_df.shift( periods = 1)\n",
    "Stock_df.dropna( how= 'any', axis = 0, inplace = True)\n",
    "\n",
    "Stock_df.head()"
   ]
  },
  {
   "cell_type": "code",
   "execution_count": 8,
   "metadata": {},
   "outputs": [],
   "source": [
    "# Splitting Data to Training and Test sets\n",
    "df_train = Stock_df[Stock_df['Date'] < datetime(year = 2019, month = 9, day = 1)]\n",
    "df_test = Stock_df[Stock_df['Date'] >= datetime(year = 2019, month = 9, day = 1)]\n",
    "features = ['Avg_5', 'Avg_30', 'Avg_365', 'Std_5', 'Std_30', 'Std_365', 'Avg_5/365', 'Std_5/365']\n",
    "target = ['Adj Close']\n",
    "X = df_train[features]\n",
    "X_test = df_test[features]\n",
    "y = df_train[target]\n",
    "y_test = df_test[target]"
   ]
  },
  {
   "cell_type": "markdown",
   "metadata": {},
   "source": [
    "Linear Regression Model"
   ]
  },
  {
   "cell_type": "code",
   "execution_count": 9,
   "metadata": {},
   "outputs": [
    {
     "name": "stdout",
     "output_type": "stream",
     "text": [
      "Coef:  [[-4.02143122e+01  2.37210289e-01  4.22650272e+01 -4.06322430e+01\n",
      "   4.75048863e+00  4.75048863e+00  6.84933117e+03  3.95708488e+02]]\n",
      "Intercept:  [-7155.06419647]\n"
     ]
    }
   ],
   "source": [
    "# Fitting Linear Regression to the dataset and predicting a new result\n",
    "from sklearn.linear_model import LinearRegression\n",
    "linear = LinearRegression()\n",
    "linear.fit(X, y)\n",
    "print(\"Coef: \", linear.coef_)\n",
    "print(\"Intercept: \", linear.intercept_)\n",
    "y_pred_linear = linear.predict(X_test)"
   ]
  },
  {
   "cell_type": "code",
   "execution_count": 10,
   "metadata": {},
   "outputs": [
    {
     "name": "stdout",
     "output_type": "stream",
     "text": [
      "MAE:  660.2783674519834\n",
      "MSE:  662289.9540853471\n",
      "RMSE:  813.8119893964129\n",
      "Score:  0.8150609525795903\n"
     ]
    }
   ],
   "source": [
    "from sklearn.metrics import mean_absolute_error, mean_squared_error, r2_score\n",
    "mae_l = mean_absolute_error( y_test, y_pred_linear)\n",
    "mse_l = mean_squared_error( y_test, y_pred_linear)\n",
    "\n",
    "print(\"MAE: \", mae_l)\n",
    "print(\"MSE: \", mse_l)\n",
    "print(\"RMSE: \", np.sqrt(mse_l))\n",
    "print(\"Score: \", linear.score(X, y))\n",
    "#r2_score(y , y_pred_linear)"
   ]
  },
  {
   "cell_type": "markdown",
   "metadata": {},
   "source": [
    "Random Forest Regression Model"
   ]
  },
  {
   "cell_type": "code",
   "execution_count": 11,
   "metadata": {},
   "outputs": [],
   "source": [
    "from sklearn.ensemble import RandomForestRegressor\n",
    "regressor = RandomForestRegressor(n_estimators = 10, random_state = 0)\n",
    "regressor.fit(X, y)\n",
    "#print(\"Coef: \", regressor.coef_)\n",
    "#print(\"Intercept: \", regressor.intercept_)\n",
    "y_pred_rf = regressor.predict(X_test)"
   ]
  },
  {
   "cell_type": "code",
   "execution_count": 12,
   "metadata": {},
   "outputs": [
    {
     "name": "stdout",
     "output_type": "stream",
     "text": [
      "MAE:  121.72176252652059\n",
      "MSE:  18705.785163557004\n",
      "RMSE:  136.76909432893459\n",
      "Score:  0.9355439438835551\n"
     ]
    }
   ],
   "source": [
    "from sklearn.metrics import mean_absolute_error, mean_squared_error\n",
    "mae_rf = mean_absolute_error( y_test, y_pred_rf)\n",
    "mse_rf = mean_squared_error( y_test, y_pred_rf)\n",
    "\n",
    "print(\"MAE: \", mae_rf)\n",
    "print(\"MSE: \", mse_rf)\n",
    "print(\"RMSE: \", np.sqrt(mse_rf))\n",
    "print(\"Score: \", regressor.score(X, y))"
   ]
  },
  {
   "cell_type": "markdown",
   "metadata": {},
   "source": [
    "XGBoost Model"
   ]
  },
  {
   "cell_type": "code",
   "execution_count": 13,
   "metadata": {},
   "outputs": [],
   "source": [
    "from xgboost import XGBRegressor\n",
    "xgb = XGBRegressor(silent = True)\n",
    "xgb.fit(X, y)\n",
    "y_pred_xgb = xgb.predict(X_test)"
   ]
  },
  {
   "cell_type": "code",
   "execution_count": 14,
   "metadata": {},
   "outputs": [
    {
     "name": "stdout",
     "output_type": "stream",
     "text": [
      "MAE:  123.41675437994763\n",
      "MSE:  19128.938016251745\n",
      "RMSE:  138.30740405434463\n",
      "Score:  0.9999999038424671\n"
     ]
    }
   ],
   "source": [
    "from sklearn.metrics import mean_absolute_error, mean_squared_error\n",
    "mae_xgb = mean_absolute_error( y_test, y_pred_xgb)\n",
    "mse_xgb = mean_squared_error( y_test, y_pred_xgb)\n",
    "\n",
    "print(\"MAE: \", mae_xgb)\n",
    "print(\"MSE: \", mse_xgb)\n",
    "print(\"RMSE: \", np.sqrt(mse_xgb))\n",
    "print(\"Score: \", xgb.score(X, y))"
   ]
  },
  {
   "cell_type": "markdown",
   "metadata": {},
   "source": [
    "Long Short-Term Memory (LSTM) Model"
   ]
  },
  {
   "cell_type": "code",
   "execution_count": null,
   "metadata": {},
   "outputs": [],
   "source": []
  },
  {
   "cell_type": "markdown",
   "metadata": {},
   "source": [
    "Applying k-Fold Cross Validation"
   ]
  },
  {
   "cell_type": "code",
   "execution_count": 15,
   "metadata": {},
   "outputs": [
    {
     "name": "stdout",
     "output_type": "stream",
     "text": [
      "Accuracy: -121.98 %"
     ]
    },
    {
     "name": "stdout",
     "output_type": "stream",
     "text": [
      "\n",
      "Standard Deviation: 144.45 %\n",
      "Accuracy: -171.23 %\n",
      "Standard Deviation: 179.21 %\n",
      "Accuracy: -231.08 %\n",
      "Standard Deviation: 362.31 %\n"
     ]
    }
   ],
   "source": [
    "from sklearn.model_selection import cross_val_score\n",
    "models = [linear, regressor, xgb]\n",
    "for model in models:\n",
    "    accuracies = cross_val_score(estimator = model, X = X, y = y, cv = 10)\n",
    "    print(\"Accuracy: {:.2f} %\".format(accuracies.mean()*100))\n",
    "    print(\"Standard Deviation: {:.2f} %\".format(accuracies.std()*100))"
   ]
  },
  {
   "cell_type": "markdown",
   "metadata": {},
   "source": [
    "Applying Grid Search to find the best model and the best parameters"
   ]
  },
  {
   "cell_type": "code",
   "execution_count": 16,
   "metadata": {},
   "outputs": [
    {
     "name": "stdout",
     "output_type": "stream",
     "text": [
      "Fitting 10 folds for each of 216 candidates, totalling 2160 fits\n"
     ]
    }
   ],
   "source": [
    "from sklearn.model_selection import GridSearchCV\n",
    "parameters = [{'C': [0.25, 0.5, 0.75, 1], 'kernel': ['linear']},\n",
    "              {'C': [0.25, 0.5, 0.75, 1], 'kernel': ['rbf'], 'gamma': [0.1, 0.2, 0.3, 0.4, 0.5, 0.6, 0.7, 0.8, 0.9]}]\n",
    "param_grid = {\n",
    "    'bootstrap': [True],\n",
    "    'max_depth': [80, 90, 100, 110],\n",
    "    'max_features': [2, 3],\n",
    "    'min_samples_leaf': [3, 4, 5],\n",
    "    'min_samples_split': [8, 10, 12],\n",
    "    'n_estimators': [100, 200, 300]\n",
    "}\n",
    "grid_search = GridSearchCV(estimator = regressor,\n",
    "                           param_grid = param_grid,               \n",
    "                           cv = 10,\n",
    "                           n_jobs = -1,\n",
    "                           verbose = 2)\n",
    "grid_search.fit(X, y)\n",
    "#best_accuracy = grid_search.best_score_\n",
    "#best_parameters = grid_search.best_params_\n",
    "#print(\"Best Accuracy: {:.2f} %\".format(best_accuracy*100))\n",
    "#print(\"Best Parameters:\", best_parameters)\n",
    "grid_search.best_params_\n",
    "best_grid = grid_search.best_estimator_\n"
   ]
  },
  {
   "cell_type": "code",
   "execution_count": 17,
   "metadata": {},
   "outputs": [],
   "source": [
    "# Visualising the Training set results\n",
    "# Visualising the Test set results"
   ]
  }
 ],
 "metadata": {
  "file_extension": ".py",
  "kernelspec": {
   "display_name": "Python 3",
   "language": "python",
   "name": "python3"
  },
  "language_info": {
   "codemirror_mode": {
    "name": "ipython",
    "version": 3
   },
   "file_extension": ".py",
   "mimetype": "text/x-python",
   "name": "python",
   "nbconvert_exporter": "python",
   "pygments_lexer": "ipython3",
   "version": "3.12.2"
  },
  "mimetype": "text/x-python",
  "name": "python",
  "npconvert_exporter": "python",
  "orig_nbformat": 2,
  "pygments_lexer": "ipython3",
  "version": 3
 },
 "nbformat": 4,
 "nbformat_minor": 2
}
